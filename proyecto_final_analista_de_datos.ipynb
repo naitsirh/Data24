{
  "nbformat": 4,
  "nbformat_minor": 0,
  "metadata": {
    "colab": {
      "provenance": []
    },
    "kernelspec": {
      "name": "python3",
      "display_name": "Python 3"
    },
    "language_info": {
      "name": "python"
    }
  },
  "cells": [
    {
      "cell_type": "markdown",
      "source": [
        "# Proyecto integrador del módulo Analista de Datos\n",
        "\n",
        "### Docentes:\n",
        "- Marcos Ugarte\n",
        "- Nahuel Pratta\n",
        "\n",
        "### Alumnos integrantes:\n",
        "- Erick López\n",
        "- Christian Nüesch\n",
        "- Débora Zurita\n",
        "\n",
        "\n",
        "<br>\n",
        "\n",
        "---\n",
        "\n",
        "<br>\n",
        "\n",
        "## Descripción del proyecto\n",
        "\n",
        "El proyecto consiste en el análisis a través de diferentes herramientas profesionales, de los datos recolectados a través de un peinado web (o web scrapping) con la información de varias características de automóviles ordenadas en doce diferentes columnas.\n",
        "\n",
        "Este procesamiento y limpieza de los datos para realizar un posterior análisis se realizó con la finalidad de articular lo visto en los diferentes espacios curriculares de la carrera Ciencia de Datos e Inteligencia Artificial. Estos espacios curriculares son \"Estadística y Exploración de Datos\", \"Procesamiento de Datos\" y \"Ciencia de Datos\".\n",
        "\n",
        "<br>\n",
        "\n",
        "**Los objetivos generales del proyecto** son desarrollar la capacidad de organizar y planificar eficazmente, aplicando loss conocimientos para identificar problemas relevantes en el contexto profesional. Se deberá comunicar los hallazgos de manera clara, tanto de forma oral como escrita. Asimismo se busca el razonamiento crítico y desarrollar actitudes importantes como la precisión, la revisión crítica, la tolerancia y el compromiso ético con la igualdad de oportunidades, sin discriminación por sexo, raza o religión, y con atención a la diversidad. Por último, se busca mejorar la capacidad para tomar decisiones y trabajar en equipo, colaborando en entornos multidisciplinares para alcanzar los objetivos propuestos.\n",
        "\n",
        "<br>\n",
        "\n",
        "**Los objetivos específicos del proyecto** son la capacidad de limpiar y transformar los datos crudos para poder eliminar errores, valores atípicos, valores ausentes y demás inconsistencias; para luego aplicar análisis gráficos y descriptivos, y relacionar diferentes variables.\n",
        "\n",
        "<br>\n",
        "\n",
        "---\n",
        "\n",
        "<br>\n",
        "\n",
        "Para empezar a trabajar con el dataset lo primero que hacemos es importar las librerías de Python que vamos a utilizar.\n",
        "\n"
      ],
      "metadata": {
        "id": "JLGOuO3RDW9f"
      }
    },
    {
      "cell_type": "code",
      "execution_count": null,
      "metadata": {
        "id": "_6IimXh51U0W"
      },
      "outputs": [],
      "source": [
        "import numpy as np\n",
        "import pandas as pd"
      ]
    },
    {
      "cell_type": "markdown",
      "source": [
        "<br>\n",
        "<br>\n",
        "\n",
        "Luego leemos los datos desde el archivo que los contiene, en este caso un archivo de valores separados por comas (csv):\n",
        "\n",
        "\n",
        "```\n",
        "autos_argentina.csv\n",
        "```\n",
        "\n"
      ],
      "metadata": {
        "id": "DUqxF9HShsRk"
      }
    },
    {
      "cell_type": "code",
      "source": [
        "data = pd.read_csv('autos_argentina.csv')\n",
        "\n",
        "# Código para el caso de que se presenten incompatibilidades con la codificación\n",
        "# del archivo\n",
        "#data = pd.read_csv('autos_argentina.csv', delimiter=',', encoding='utf-8')"
      ],
      "metadata": {
        "id": "XSL7CGD2hrtQ"
      },
      "execution_count": null,
      "outputs": []
    },
    {
      "cell_type": "markdown",
      "source": [
        "<br>\n",
        "\n",
        "## Análisis descriptivo del dataset"
      ],
      "metadata": {
        "id": "Ks_ccCw4JeGx"
      }
    },
    {
      "cell_type": "markdown",
      "source": [
        "Lo siguiente que vamos a realizar es imprimir los primeros diez registros del dataset para poder hacernos una idea de qué se trata:"
      ],
      "metadata": {
        "id": "ZdRkZEgLjC2e"
      }
    },
    {
      "cell_type": "code",
      "source": [
        "print(data.head(10))"
      ],
      "metadata": {
        "id": "GCS5HEFhiqje"
      },
      "execution_count": null,
      "outputs": []
    },
    {
      "cell_type": "markdown",
      "source": [
        "<br>\n",
        "<br>\n",
        "\n",
        "También podemos imprimir las últimas filas del dataset (tanto para ```head``` como para ```tail``` por defecto siempre se imprimen cinco filas):"
      ],
      "metadata": {
        "id": "Da3daxTcnziQ"
      }
    },
    {
      "cell_type": "code",
      "source": [
        "data.tail()"
      ],
      "metadata": {
        "id": "vaFDCktsoAvp"
      },
      "execution_count": null,
      "outputs": []
    },
    {
      "cell_type": "markdown",
      "source": [
        "<br>\n",
        "<br>\n",
        "\n",
        "Podemos imprimir todo el dataset, aunque *se debe tener cuidado al realizar esta operación* si el dataset es muy grande, ya que todo deberá ser cargado en memoria."
      ],
      "metadata": {
        "id": "dUSwuMOdKgHF"
      }
    },
    {
      "cell_type": "code",
      "source": [
        "print(data.to_string())"
      ],
      "metadata": {
        "id": "Sl7tnf81J1nl"
      },
      "execution_count": null,
      "outputs": []
    },
    {
      "cell_type": "markdown",
      "source": [
        "<br>\n",
        "<br>\n",
        "\n",
        "También vamos a generar una descripción general del dataset:"
      ],
      "metadata": {
        "id": "TDX_98H5O7kq"
      }
    },
    {
      "cell_type": "code",
      "source": [
        "data.describe()"
      ],
      "metadata": {
        "id": "cj22tSNwPHmq"
      },
      "execution_count": null,
      "outputs": []
    },
    {
      "cell_type": "markdown",
      "source": [
        "<br>\n",
        "<br>\n",
        "\n",
        "Con el método ```info()``` podemos ver el número de filas y columnas, el tipo de datos de cada columna, el número de valores no nulos de cada columna y el uso de memoria del dataset:"
      ],
      "metadata": {
        "id": "q-JqPYt5o4EZ"
      }
    },
    {
      "cell_type": "code",
      "source": [
        "data.info()"
      ],
      "metadata": {
        "id": "SROARjrwpRtD"
      },
      "execution_count": null,
      "outputs": []
    },
    {
      "cell_type": "markdown",
      "source": [
        "<br>\n",
        "<br>\n",
        "\n",
        "Se pueden visualizar diferentes características del dataset:"
      ],
      "metadata": {
        "id": "4UZ5gjtoR-Jp"
      }
    },
    {
      "cell_type": "code",
      "source": [
        "# Los nombres de las columnas:\n",
        "data.columns"
      ],
      "metadata": {
        "colab": {
          "base_uri": "https://localhost:8080/"
        },
        "id": "1AHHV5YCEDgh",
        "outputId": "33bbd382-2792-4c74-f407-71f60d177cf8"
      },
      "execution_count": null,
      "outputs": [
        {
          "output_type": "execute_result",
          "data": {
            "text/plain": [
              "Index(['Precio', 'Marca', 'Modelo', 'Año', 'Color', 'Combustible', 'Puertas',\n",
              "       'Caja', 'Motor', 'Carrocería', 'Kilómetros', 'Moneda'],\n",
              "      dtype='object')"
            ]
          },
          "metadata": {},
          "execution_count": 3
        }
      ]
    },
    {
      "cell_type": "markdown",
      "source": [
        "<br>"
      ],
      "metadata": {
        "id": "3CL1-LJrEMdV"
      }
    },
    {
      "cell_type": "code",
      "source": [
        "# La cantidad total de celdas o elementos del dataset:\n",
        "data.size"
      ],
      "metadata": {
        "id": "KFNcPciYSG1Q"
      },
      "execution_count": null,
      "outputs": []
    },
    {
      "cell_type": "markdown",
      "source": [
        "<br>"
      ],
      "metadata": {
        "id": "ysoqi3tfgqE6"
      }
    },
    {
      "cell_type": "code",
      "source": [
        "# Una lista con los nombres de las filas del dataset (en nuestro caso no tiene\n",
        "# mucho sentido esta información, pero sí puede servir para otros casos)\n",
        "data.index"
      ],
      "metadata": {
        "id": "8A4Y1lwlSO3W"
      },
      "execution_count": null,
      "outputs": []
    },
    {
      "cell_type": "markdown",
      "source": [
        "<br>"
      ],
      "metadata": {
        "id": "Y8dtGEbngooN"
      }
    },
    {
      "cell_type": "code",
      "source": [
        "# Con esta instrucción podemos ver si faltan datos en alguna fila\n",
        "data.count(axis='columns')"
      ],
      "metadata": {
        "id": "uI2EZd64TQkD"
      },
      "execution_count": null,
      "outputs": []
    },
    {
      "cell_type": "markdown",
      "source": [
        "<br>"
      ],
      "metadata": {
        "id": "ZNfLICBogm-f"
      }
    },
    {
      "cell_type": "code",
      "source": [
        "# Con esta instrucción podemos ver si faltan datos en alguna columna\n",
        "\n",
        "# En nuestro caso se puede ver que en las columnas 'Color', 'Caja', 'Motor' y\n",
        "# 'Carrocería' hay datos ausentes (en todos los casos el total debe se 510)\n",
        "data.count(axis='index')"
      ],
      "metadata": {
        "id": "cNiSSPo0Tfvf"
      },
      "execution_count": null,
      "outputs": []
    },
    {
      "cell_type": "markdown",
      "source": [
        "<br>"
      ],
      "metadata": {
        "id": "zcglA4a2glFv"
      }
    },
    {
      "cell_type": "code",
      "source": [
        "# Podemos observar qué cantidad hay de cada elemento en cada columna, simplemente\n",
        "# ajustando o indicando la columna a la que nos referimos\n",
        "data.value_counts('Marca')"
      ],
      "metadata": {
        "id": "Wh9H3TOLU5vR"
      },
      "execution_count": null,
      "outputs": []
    },
    {
      "cell_type": "markdown",
      "source": [
        "<br>"
      ],
      "metadata": {
        "id": "1OPzxLungcqE"
      }
    },
    {
      "cell_type": "code",
      "source": [
        "# Podemos obtener exactamente la misma información que antes, pero cambiando la\n",
        "# forma que referenciamos la columna\n",
        "data['Marca'].value_counts()"
      ],
      "metadata": {
        "id": "jG2Mh6LTW4Qo"
      },
      "execution_count": null,
      "outputs": []
    },
    {
      "cell_type": "markdown",
      "source": [
        "<br>"
      ],
      "metadata": {
        "id": "x8L7HxsdiHX_"
      }
    },
    {
      "cell_type": "code",
      "source": [
        "# Valores válidos sobre el total\n",
        "\n",
        "# Esta instancia es un poco más compleja, ya que se debe utiliza una combinación\n",
        "# de varios varios métodos\n",
        "\n",
        "# Como la operación se debe realizar varias veces, empaquetamos todo el código\n",
        "# en una función, y así lo reutilizamos al código\n",
        "\n",
        "def ausentes_y_texto(columna):\n",
        "  columna_analizada = data[columna]\n",
        "  datos_ausentes = columna_analizada.isna().sum()\n",
        "  datos_de_texto = columna_analizada.apply(lambda x: isinstance(x, str)).sum()\n",
        "  print(f'Número de datos ausentes en \"{columna}\": {datos_ausentes}')\n",
        "  print(f'Número de datos de texto en \"{columna}\": {datos_de_texto}')\n",
        "  print('\\n')\n",
        "\n",
        "ausentes_y_texto('Precio')\n",
        "ausentes_y_texto('Año')\n",
        "ausentes_y_texto('Puertas')\n",
        "ausentes_y_texto('Motor')\n",
        "ausentes_y_texto('Kilómetros')\n"
      ],
      "metadata": {
        "id": "ytCD5w0giJHA"
      },
      "execution_count": null,
      "outputs": []
    },
    {
      "cell_type": "markdown",
      "source": [
        "<br>\n",
        "<br>\n",
        "\n",
        "Un ==análisis extra== sería el siguiente: como estamos trabajando con información sobre autos puestos a la venta, sería bueno saber cuántos modelos hay en total disponibles en la plaza, y su marca comercial correspondiente. Para ello realizamos las siguientes operaciones:\n",
        "\n",
        "**Nota:** el renderizador de Google no reconoce la instrucción de Markdown de resaltado (el signo igual doble `==`)"
      ],
      "metadata": {
        "id": "6O8tp6DECaOm"
      }
    },
    {
      "cell_type": "code",
      "source": [
        "# Ajustamos la configuración de \"Pandas\" para mostrar todas las filas\n",
        "\n",
        "# Igual que en un ejemplo anterior, esto hará que se muestren todas las filas\n",
        "# obtenidas, por lo que en determinados casos podría hacer que se consuman\n",
        "# muchos recursos del sistema. En caso que se desee que no ocurra esto, se\n",
        "# comenta esta línea y se vuelva a ejecutar el notebook (ya que \"Pandas\" habrá)\n",
        "# quedado precargado para mostrar todas las filas\n",
        "pd.set_option('display.max_rows', None)\n",
        "\n",
        "# Seleccionamos las columnas relevantes\n",
        "columna_2 = data.iloc[:, 1]  # Segunda columna\n",
        "columna_3 = data.iloc[:, 2]  # Tercera columna\n",
        "\n",
        "# Creamos un DataFrame con las columnas seleccionadas\n",
        "data_seleccion = pd.DataFrame({'Marca': columna_2, 'Modelo': columna_3})\n",
        "\n",
        "# Eliminamos duplicados basados en la tercera columna\n",
        "data_unicos = data_seleccion.drop_duplicates(subset='Modelo')\n",
        "\n",
        "# Imprimimos los valores únicos de la tercera columna y sus valores asociados en la segunda columna\n",
        "print(data_unicos)\n"
      ],
      "metadata": {
        "id": "dn18SWQ1EVfj"
      },
      "execution_count": null,
      "outputs": []
    },
    {
      "cell_type": "markdown",
      "source": [
        "<br>\n",
        "\n",
        "## Análisis estadísticos del dataset\n",
        "\n",
        "A partir de aquí se obtienen diferentes datos e informaciones de tipo estadístico del dataset con el que estamos trabajando (siempre para las columnas con datos numéricos)"
      ],
      "metadata": {
        "id": "8Ng3A5nruv42"
      }
    },
    {
      "cell_type": "code",
      "source": [
        "# Menor de los datos\n",
        "\n",
        "# Para la columna \"Motor\" no podemos obtener de momento el valor mínimo porque\n",
        "# hay valores mal registrados (lo mismo va a ocurrir para todos los análisis que\n",
        "# impliquien valores numéricos)\n",
        "\n",
        "data[['Precio', 'Año', 'Puertas', 'Kilómetros']].min()"
      ],
      "metadata": {
        "id": "x3HYEUSvqvF0"
      },
      "execution_count": null,
      "outputs": []
    },
    {
      "cell_type": "markdown",
      "source": [
        "<br>"
      ],
      "metadata": {
        "id": "gAG_z7OLhnrr"
      }
    },
    {
      "cell_type": "code",
      "source": [
        "# Mayor de los datos\n",
        "data[['Precio', 'Año', 'Puertas', 'Kilómetros']].max()"
      ],
      "metadata": {
        "id": "TyMXQfMUwnGU"
      },
      "execution_count": null,
      "outputs": []
    },
    {
      "cell_type": "markdown",
      "source": [
        "<br>"
      ],
      "metadata": {
        "id": "rFgFEXowhrZ6"
      }
    },
    {
      "cell_type": "code",
      "source": [
        "# Media de los datos\n",
        "data[['Precio', 'Año', 'Puertas', 'Kilómetros']].mean()"
      ],
      "metadata": {
        "id": "aJG3pGbYzXR9"
      },
      "execution_count": null,
      "outputs": []
    },
    {
      "cell_type": "markdown",
      "source": [
        "<br>"
      ],
      "metadata": {
        "id": "ByNcqHC3hx2K"
      }
    },
    {
      "cell_type": "code",
      "source": [
        "# La varianza de los datos\n",
        "data[['Precio', 'Año', 'Puertas', 'Kilómetros']].var()"
      ],
      "metadata": {
        "id": "1yWSB8npzUQk"
      },
      "execution_count": null,
      "outputs": []
    },
    {
      "cell_type": "markdown",
      "source": [
        "<br>"
      ],
      "metadata": {
        "id": "PIk10g-ohzl8"
      }
    },
    {
      "cell_type": "code",
      "source": [
        "# La desviación estándar de los datos\n",
        "data[['Precio', 'Año', 'Puertas', 'Kilómetros']].std()"
      ],
      "metadata": {
        "id": "VWAfaxyUzRDY"
      },
      "execution_count": null,
      "outputs": []
    },
    {
      "cell_type": "markdown",
      "source": [
        "<br>"
      ],
      "metadata": {
        "id": "rdgmDUWvh1dn"
      }
    },
    {
      "cell_type": "code",
      "source": [
        "# Aquí volvemos a utilizar el método 'describe()' pero indicándolo de forma\n",
        "# específica las columnas sobre las que queremos trabajar, y obtenemos la\n",
        "# misma información que hasta ahora, pero con el añadido de los cuartiles\n",
        "data[['Precio', 'Año', 'Puertas', 'Kilómetros']].describe()"
      ],
      "metadata": {
        "id": "_1zsS8no1eb6"
      },
      "execution_count": null,
      "outputs": []
    }
  ]
}